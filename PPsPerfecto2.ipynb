{
  "cells": [
    {
      "cell_type": "code",
      "execution_count": 16,
      "metadata": {
        "id": "Ffqp3SEtzu-o"
      },
      "outputs": [],
      "source": [
        "import networkx as nx\n",
        "import matplotlib.pyplot as plt\n",
        "import networkx.algorithms.isomorphism as iso\n",
        "import scipy.io as sio\n",
        "import numpy as np\n",
        "import csv\n",
        "import time"
      ]
    },
    {
      "cell_type": "markdown",
      "metadata": {
        "id": "Xavj1IDfm-Bc"
      },
      "source": [
        "#Variables Globales"
      ]
    },
    {
      "cell_type": "code",
      "execution_count": 17,
      "metadata": {
        "id": "X8B4hX1AnBcy"
      },
      "outputs": [],
      "source": [
        "n_segundos=0"
      ]
    },
    {
      "cell_type": "markdown",
      "metadata": {
        "id": "-ATAiJih1mCD"
      },
      "source": [
        "#Graficar Grafo"
      ]
    },
    {
      "cell_type": "code",
      "execution_count": 18,
      "metadata": {
        "id": "gRPrltSxzzWF"
      },
      "outputs": [],
      "source": [
        "def graficar_grafo(G):\n",
        "    for i, layer in enumerate(nx.topological_generations(G)):\n",
        "        for n in layer:\n",
        "            G.nodes[n][\"layer\"] = i\n",
        "    pos_nodes = nx.multipartite_layout(G, subset_key=\"layer\", align=\"horizontal\")\n",
        "    # Flip the layout so the root node is on top\n",
        "    for k in pos_nodes:\n",
        "        pos_nodes[k][-1] *= -1\n",
        "\n",
        "    color_map = []\n",
        "    for node in G:\n",
        "        if G.nodes[node]['tipo']=='MP':\n",
        "            color_map.append('lime')\n",
        "        else: \n",
        "            color_map.append(\"deepskyblue\")\n",
        "\n",
        "    options = {\n",
        "    \"font_size\": 10,\n",
        "    \"node_size\": 400,\n",
        "    #\"node_height\":80,\n",
        "    #\"node_width\":40,\n",
        "    \"node_shape\":\"s\",\n",
        "    #\"node_color\": \"red\",\n",
        "    \"alpha\":0.8,\n",
        "    \"font_weight\":\"bold\",\n",
        "    \"edgecolors\": \"blue\",\n",
        "    \"linewidths\": 0.5,\n",
        "    \"width\": 1,\n",
        "    }\n",
        "    \n",
        "    plt.figure()\n",
        "    nx.draw(G, pos=pos_nodes,node_color=color_map, with_labels=True,**options)\n",
        "    \n",
        "    pos_attrs = {}\n",
        "    for node, coords in pos_nodes.items():\n",
        "        pos_attrs[node] = (coords[0], coords[1] - 0.12)\n",
        "\n",
        "    node_attrs = nx.get_node_attributes(G, 'operacion')\n",
        "    custom_node_attrs = {}\n",
        "    for node, attr in node_attrs.items():\n",
        "      custom_node_attrs[node] = \" (\" + attr + \")\"  \n",
        "\n",
        "    nx.draw_networkx_labels(G, pos_attrs,font_size=8, labels=custom_node_attrs)\n",
        "    \n",
        "    #plt.text(pos_attrs,\"Grafi\")\n",
        "    plt.show()"
      ]
    },
    {
      "cell_type": "markdown",
      "metadata": {
        "id": "dSEBsEoklPpj"
      },
      "source": [
        "# Esperar\n",
        "\n"
      ]
    },
    {
      "cell_type": "code",
      "execution_count": 19,
      "metadata": {
        "id": "u2bKn0ualdcj"
      },
      "outputs": [],
      "source": [
        "def esperar(tiempo_espera):\n",
        "  global n_segundos\n",
        "  tiempo_espera=int(tiempo_espera)\n",
        "  time.sleep(tiempo_espera)\n",
        "  n_segundos += tiempo_espera\n",
        "  m, s = divmod(n_segundos, 60)\n",
        "  min_sec_format = '{:02d}:{:02d}'.format(m, s)\n",
        "  print(min_sec_format, end=\"  \")"
      ]
    },
    {
      "cell_type": "markdown",
      "metadata": {
        "id": "Fb-4iI641QOT"
      },
      "source": [
        "#Narrar"
      ]
    },
    {
      "cell_type": "code",
      "execution_count": 20,
      "metadata": {
        "id": "3CRxPbMvzzFs"
      },
      "outputs": [],
      "source": [
        "def narrar(nodo,G):\n",
        "  predecesor=list(G.predecessors(nodo))[0]\n",
        "\n",
        "  if(G.nodes[nodo]['tipo'] =='MP'):\n",
        "    print(\"Envio el/la \"+ nodo + \" a la estación Nº:\"+ str( G.nodes[predecesor]['n_estacion']) )\n",
        "    esperar(G.nodes[nodo]['t_almacen'])\n",
        "\n",
        "  if(G.nodes[nodo]['tipo'] =='P'):\n",
        "    print(\"Realizo la operación \"+str( G.nodes[nodo]['operacion'])+\" y envio el \"+ nodo +\" a la estación Nº:\"+ str(G.nodes[predecesor]['n_estacion']))\n",
        "    esperar(G.nodes[nodo]['t_procesado'])\n",
        "    if(G.nodes[predecesor]['n_estacion']==100):\n",
        "      print(\"Producto terminado\")\n",
        "      global n_segundos\n",
        "      n_segundos=0\n"
      ]
    },
    {
      "cell_type": "markdown",
      "metadata": {
        "id": "lZUDDBGqyXVZ"
      },
      "source": [
        "#Cargar Grafo"
      ]
    },
    {
      "cell_type": "code",
      "execution_count": 21,
      "metadata": {
        "id": "7TBHrl7Ex4HJ"
      },
      "outputs": [],
      "source": [
        "def cargar_grafo(producto):\n",
        "    with open('BD Grafos.csv') as File:\n",
        "        reader = csv.reader(File, delimiter=',', quotechar=',',quoting=csv.QUOTE_MINIMAL)\n",
        "        for row in reader:\n",
        "            if row[0]==producto:\n",
        "              aristas_nodos=[None] * int(0.5*len(row))\n",
        "              for j in range(0,-1+len(row),2):\n",
        "                  aristas_nodos[int(j/2)]=(row[j],row[j+1])\n",
        "    G= nx.from_edgelist(aristas_nodos, create_using=nx.DiGraph)\n",
        "    lista_nodos=list(G.nodes)\n",
        "    for nodo in lista_nodos:\n",
        "          if nodo==lista_nodos[0]:\n",
        "              G.add_node(nodo, tipo='P', n_estacion=100,operacion='exibir')\n",
        "          else:\n",
        "              if nodo[0]+nodo[1]+nodo[2]+nodo[3]==\"SubP\":\n",
        "                with open('BD SubProductos.csv') as File:\n",
        "                  reader = csv.reader(File, delimiter=',', quotechar=',',quoting=csv.QUOTE_MINIMAL)\n",
        "                  for row in reader:\n",
        "                        if row[0]==nodo:\n",
        "                            G.add_node(nodo, tipo='P',operacion=row[1],n_estacion=row[2],t_procesado=row[3],t_estacion=row[4])\n",
        "              else:\n",
        "                #print(nodo)\n",
        "                with open('BD Materias Primas.csv') as File:\n",
        "                  reader = csv.reader(File, delimiter=',', quotechar=',',quoting=csv.QUOTE_MINIMAL)\n",
        "                  for row in reader:\n",
        "                        if row[0]==nodo:\n",
        "                            G.add_node(nodo, tipo='MP',n_almacen=row[1],t_almacen=row[2])\n",
        "    return G"
      ]
    },
    {
      "cell_type": "markdown",
      "metadata": {
        "id": "S354VGGZ1JrE"
      },
      "source": [
        "#Ejecutar Grafo\n"
      ]
    },
    {
      "cell_type": "code",
      "execution_count": 22,
      "metadata": {
        "id": "X1jhH1G30HNs"
      },
      "outputs": [],
      "source": [
        "def ejecutar_grafo(G):\n",
        "    caminito_mas_largo=nx.dag_longest_path(G)\n",
        "\n",
        "    m, s = divmod(0, 60)\n",
        "    min_sec_format = '{:02d}:{:02d}'.format(m, s)\n",
        "    print(min_sec_format, end=\"  \")\n",
        "\n",
        "    for n in range(len(caminito_mas_largo)-1,0,-1):\n",
        "      estrctura_recorrido(caminito_mas_largo[n],G)"
      ]
    },
    {
      "cell_type": "markdown",
      "metadata": {
        "id": "4jSIvmgj1Un7"
      },
      "source": [
        "#Estructura recorrido 2"
      ]
    },
    {
      "cell_type": "code",
      "execution_count": 23,
      "metadata": {
        "id": "SmJkpS_CzzNC"
      },
      "outputs": [],
      "source": [
        "def estrctura_recorrido2(n_de_partida,G):\n",
        "  list(G.predecessors(n_de_partida))\n",
        "  precedente=list(G.predecessors(n_de_partida))[0]\n",
        "  #print(\"Envio la \" + n_de_partida)\n",
        "  narrar(n_de_partida,G)\n",
        "  sucesores=list(G.successors(precedente))\n",
        "  for i in sucesores:\n",
        "    if (i!=n_de_partida):\n",
        "      T = nx.dfs_tree(G, i)\n",
        "      camino_mas_largo=nx.dag_longest_path(T)\n",
        "      \n",
        "      if( len(camino_mas_largo)==2):\n",
        "        for k in list(G.successors(i)):\n",
        "          #print(\"Envio \"+ k)\n",
        "          narrar(k,G)\n",
        "\n",
        "      if( len(camino_mas_largo) > 2):\n",
        "        elemento_final2=camino_mas_largo[-1+len(camino_mas_largo)]\n",
        "        for j in list(G.successors( list(G.predecessors(elemento_final2))[0] )) :\n",
        "          #print(\"Envio-- \"+ j)\n",
        "          narrar(j,G)\n",
        "          \n",
        "      T.clear()  \n",
        "      #print(\"Envio el \" + i  )\n",
        "      narrar(i,G)"
      ]
    },
    {
      "cell_type": "markdown",
      "metadata": {
        "id": "A0gu0drd1Zes"
      },
      "source": [
        "#Estructura recorrido"
      ]
    },
    {
      "cell_type": "code",
      "execution_count": 24,
      "metadata": {
        "id": "qFzetcdpzzQk"
      },
      "outputs": [],
      "source": [
        "def estrctura_recorrido(n_de_partida,G):\n",
        "  list(G.predecessors(n_de_partida))\n",
        "  precedente=list(G.predecessors(n_de_partida))[0]\n",
        "  #print(\"Envio la \" + n_de_partida)\n",
        "  narrar(n_de_partida,G)\n",
        "  sucesores=list(G.successors(precedente))\n",
        "  for i in sucesores:\n",
        "    if (i!=n_de_partida):\n",
        "      T = nx.dfs_tree(G, i)\n",
        "      camino_mas_largo=nx.dag_longest_path(T)\n",
        "      \n",
        "      if( len(camino_mas_largo)==2):\n",
        "        for k in list(G.successors(i)):\n",
        "          #print(\"Envio \"+ k)\n",
        "          narrar(k,G)\n",
        "\n",
        "      if( len(camino_mas_largo) > 2):\n",
        "        elemento_final=camino_mas_largo[-1+len(camino_mas_largo)]\n",
        "        for j in list(G.successors( list(G.predecessors(elemento_final))[0] )) :\n",
        "            #print(\"Envio-- \"+ j)\n",
        "            narrar(j,G)\n",
        "        estrctura_recorrido2( list(G.predecessors(elemento_final))[0] ,G )\n",
        "        \n",
        "      T.clear()  \n",
        "      #print(\"Envio el \" + i  )\n",
        "      narrar(i,G)"
      ]
    },
    {
      "cell_type": "markdown",
      "metadata": {
        "id": "QLG5oTbD3Dgi"
      },
      "source": [
        "#Entorno de ejecución"
      ]
    },
    {
      "cell_type": "code",
      "execution_count": 27,
      "metadata": {
        "colab": {
          "base_uri": "https://localhost:8080/",
          "height": 516
        },
        "id": "sNQlMaRS94tR",
        "outputId": "72879f21-8ffa-408e-c8f5-433f29e1e266"
      },
      "outputs": [
        {
          "data": {
            "image/png": "[encoded data removed]",
            "text/plain": [
              "<Figure size 640x480 with 1 Axes>"
            ]
          },
          "metadata": {},
          "output_type": "display_data"
        }
      ],
      "source": [
        "graficar_grafo(cargar_grafo(\"ProdB\"))"
      ]
    },
    {
      "cell_type": "code",
      "execution_count": 28,
      "metadata": {
        "colab": {
          "base_uri": "https://localhost:8080/"
        },
        "id": "ixTLrlWFVvAQ",
        "outputId": "3053506d-c9de-43e7-a9d7-46bd8750e4a5"
      },
      "outputs": [
        {
          "name": "stdout",
          "output_type": "stream",
          "text": [
            "00:00  Envio el/la Madera a la estación Nº:2\n",
            "00:04  Envio el/la Barniz a la estación Nº:2\n",
            "00:06  Envio el/la Colorante a la estación Nº:2\n",
            "00:09  Realizo la operación Pintar y envio el SubProducto4 a la estación Nº:3\n",
            "00:14  Envio el/la Tarugo a la estación Nº:3\n",
            "00:17  Envio el/la Pegamento a la estación Nº:3\n",
            "00:19  Realizo la operación Martillar y envio el SubProducto3 a la estación Nº:100\n",
            "00:23  Producto terminado\n"
          ]
        }
      ],
      "source": [
        "ejecutar_grafo(cargar_grafo(\"ProdB\"))"
      ]
    }
  ],
  "metadata": {
    "colab": {
      "collapsed_sections": [
        "lZUDDBGqyXVZ",
        "4jSIvmgj1Un7",
        "A0gu0drd1Zes"
      ],
      "provenance": []
    },
    "kernelspec": {
      "display_name": "Python 3",
      "name": "python3"
    },
    "language_info": {
      "codemirror_mode": {
        "name": "ipython",
        "version": 3
      },
      "file_extension": ".py",
      "mimetype": "text/x-python",
      "name": "python",
      "nbconvert_exporter": "python",
      "pygments_lexer": "ipython3",
      "version": "3.10.6"
    }
  },
  "nbformat": 4,
  "nbformat_minor": 0
}
